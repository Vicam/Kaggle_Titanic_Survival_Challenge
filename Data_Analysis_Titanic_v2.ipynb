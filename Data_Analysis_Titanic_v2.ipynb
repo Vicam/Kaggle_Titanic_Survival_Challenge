{
 "cells": [
  {
   "cell_type": "markdown",
   "metadata": {
    "nbpresent": {
     "id": "8d9ec022-4a2a-45d5-bcd9-946ec4002be1"
    }
   },
   "source": [
    "# Kaggle Competition: Titanic survival\n",
    "### Victor Ambonati (Vicam)\n",
    "### 20 November 2016\n",
    "\n",
    "# 1 Introduction\n",
    "Notebook inspired of \"Exploring Survival on Titanic\" by Megan Risdal, a Kernel in R on Kaggle: https://www.kaggle.com/mrisdal/titanic/exploring-survival-on-the-titanic\n",
    "I make my debut on Kaggle and I'm new to Data Science. I'm hoping to learn a lot so your comments and suggestions are welcomed.  \n",
    "## 1.1 Load and check data"
   ]
  },
  {
   "cell_type": "code",
   "execution_count": 211,
   "metadata": {
    "collapsed": false,
    "nbpresent": {
     "id": "9c7ed892-97a0-4179-8ca8-bdbefe743a42"
    },
    "scrolled": true
   },
   "outputs": [
    {
     "name": "stdout",
     "output_type": "stream",
     "text": [
      "<class 'pandas.core.frame.DataFrame'>\n",
      "Int64Index: 1309 entries, 0 to 417\n",
      "Data columns (total 12 columns):\n",
      "Age            1046 non-null float64\n",
      "Cabin          295 non-null object\n",
      "Embarked       1307 non-null object\n",
      "Fare           1308 non-null float64\n",
      "Name           1309 non-null object\n",
      "Parch          1309 non-null int64\n",
      "PassengerId    1309 non-null int64\n",
      "Pclass         1309 non-null int64\n",
      "Sex            1309 non-null object\n",
      "SibSp          1309 non-null int64\n",
      "Survived       891 non-null float64\n",
      "Ticket         1309 non-null object\n",
      "dtypes: float64(3), int64(4), object(5)\n",
      "memory usage: 132.9+ KB\n",
      "None\n"
     ]
    }
   ],
   "source": [
    "# Load library\n",
    "%matplotlib inline\n",
    "import pandas as pd\n",
    "import numpy as np\n",
    "import csv as csv \n",
    "import matplotlib.pyplot as plt\n",
    "from sklearn.linear_model import LogisticRegression\n",
    "from sklearn.ensemble import RandomForestClassifier\n",
    "\n",
    "\n",
    "# Get the raw data\n",
    "train_df = pd.read_csv('train.csv', header=0)\n",
    "test_df = pd.read_csv('test.csv', header=0)\n",
    "full_df = pd.concat([train_df, test_df]) #Bind training and test data\n",
    "\n",
    "#check data\n",
    "# print(full_df.head(5))\n",
    "print(full_df.info())"
   ]
  },
  {
   "cell_type": "markdown",
   "metadata": {
    "collapsed": false
   },
   "source": [
    "We can tell that there is 1309 observations of 12 features. And some data are missing. Here is a better description of the feature:\n",
    "\n",
    "Variable Name | Description\n",
    "--------------|-------------\n",
    "Survived      | Survived (1) or died (0)\n",
    "Pclass        | Passenger's class\n",
    "Name          | Passenger's name\n",
    "Sex           | Passenger's sex\n",
    "Age           | Passenger's age\n",
    "SibSp         | Number of siblings/spouses aboard\n",
    "Parch         | Number of parents/children aboard\n",
    "Ticket        | Ticket number\n",
    "Fare          | Fare\n",
    "Cabin         | Cabin\n",
    "Embarked      | Port of embarkation\n",
    "\n",
    "# 2 Feature Engineering\n",
    "## 2.1 Survived\n",
    "This is the feature we want to predict on our test set. We won't modify it.\n",
    "## 2.2 Pclass\n",
    "No missing value. Already numeric value. Let's see if it seems to have an impact on survival."
   ]
  },
  {
   "cell_type": "code",
   "execution_count": 212,
   "metadata": {
    "collapsed": false,
    "scrolled": true
   },
   "outputs": [
    {
     "name": "stdout",
     "output_type": "stream",
     "text": [
      "   Pclass  Survived\n",
      "0       1  0.629630\n",
      "1       2  0.472826\n",
      "2       3  0.242363\n"
     ]
    }
   ],
   "source": [
    "# Survival rate depending on passenger's class\n",
    "print( full_df[[\"Pclass\", \"Survived\"]].groupby(['Pclass'],as_index=False).mean() )\n",
    "full_df['Class1'] = (full_df['Pclass'] == 1).astype(int)"
   ]
  },
  {
   "cell_type": "markdown",
   "metadata": {},
   "source": [
    "Great ! We can see a relation here. People with class 1 ticket seem to have a better survival than those with class 3 ticket. I also create Class1 variable.\n",
    "## 2.3 Name\n",
    "In the name feature, we can find the first name, the last name but also the Title. May be the Title of the person can be helpful."
   ]
  },
  {
   "cell_type": "code",
   "execution_count": 213,
   "metadata": {
    "collapsed": false,
    "nbpresent": {
     "id": "36232ebc-f058-44db-ae29-59c555980224"
    },
    "scrolled": true
   },
   "outputs": [
    {
     "name": "stdout",
     "output_type": "stream",
     "text": [
      "Sex           female  male\n",
      "Title                     \n",
      "Capt               0     1\n",
      "Col                0     4\n",
      "Don                0     1\n",
      "Dona               1     0\n",
      "Dr                 1     7\n",
      "Jonkheer           0     1\n",
      "Lady               1     0\n",
      "Major              0     2\n",
      "Master             0    61\n",
      "Miss             260     0\n",
      "Mlle               2     0\n",
      "Mme                1     0\n",
      "Mr                 0   757\n",
      "Mrs              197     0\n",
      "Ms                 2     0\n",
      "Rev                0     8\n",
      "Sir                0     1\n",
      "the Countess       1     0\n"
     ]
    }
   ],
   "source": [
    "full_df['Title'] = full_df['Name'].str.replace('(.*, )|(\\\\..*)', '') # creation of a new feature \"Title\" in the dataframe\n",
    "\n",
    "# These line help me to find out a problem, there was Miss with male sex. \n",
    "# I correct the mistake but I let those lines to show how I found.\n",
    "    #print (full_df.groupby(['Title','Sex']).size())\n",
    "    #print(pd.crosstab(full_df['Title'],full_df['Sex']))\n",
    "    #print( full_df[(full_df['Title'] == 'Miss') & (full_df['Sex'] == 'male')].head(3))\n",
    "\n",
    "print(pd.crosstab(full_df['Title'],full_df['Sex']))"
   ]
  },
  {
   "cell_type": "code",
   "execution_count": 214,
   "metadata": {
    "collapsed": false
   },
   "outputs": [
    {
     "name": "stdout",
     "output_type": "stream",
     "text": [
      "           Title     Sex  Survived\n",
      "0         Master    male  0.575000\n",
      "1           Miss  female  0.702703\n",
      "2             Mr    male  0.156673\n",
      "3            Mrs  female  0.793651\n",
      "4  special_title  female  1.000000\n",
      "5  special_title    male  0.250000\n"
     ]
    }
   ],
   "source": [
    "# We can see there is Title with few counts, we will group them into special title\n",
    "full_df['Title'] = full_df['Title'].replace(['Dona', 'Lady', 'the Countess','Capt', 'Col', 'Don', \n",
    "                'Dr', 'Major', 'Rev', 'Sir', 'Jonkheer'], 'special_title')\n",
    "\n",
    "# Also reassign mlle, ms, and mme accordingly\n",
    "full_df['Title'] = full_df['Title'].replace('Mlle', 'Miss')\n",
    "full_df['Title'] = full_df['Title'].replace('Ms', 'Miss')\n",
    "full_df['Title'] = full_df['Title'].replace('Mme', 'Mrs')\n",
    "\n",
    "# Relation between Title, sex and survival rate.\n",
    "print( full_df[[\"Title\",\"Sex\", \"Survived\"]].groupby(['Title', 'Sex'],as_index=False).mean() )\n",
    "\n",
    "#create a similar feature but a numeric feature for the learning algorihm\n",
    "full_df['Title_Num'] = full_df['Title'].map( {'Mrs': 0, 'Miss': 1, 'special_title':2, 'Master':3, 'Mr':4} ).astype(int) "
   ]
  },
  {
   "cell_type": "markdown",
   "metadata": {},
   "source": [
    "The Title seem to have a good correlation with the survival. We know from the first exercise that Sex is a good feature. Since Title is link to Sex, we have also good correlation. But the Title still seem to add informations, Master title are male with good Survival rate for example. So let's keep this new feature and search for another new feature.\n",
    "## 2.4 Sex"
   ]
  },
  {
   "cell_type": "code",
   "execution_count": 215,
   "metadata": {
    "collapsed": false,
    "nbpresent": {
     "id": "8c4e9769-d428-4d85-be71-417eb341a102"
    }
   },
   "outputs": [
    {
     "name": "stdout",
     "output_type": "stream",
     "text": [
      "      Sex  Survived\n",
      "0  female  0.742038\n",
      "1    male  0.188908\n"
     ]
    }
   ],
   "source": [
    "print( full_df[[\"Sex\", \"Survived\"]].groupby(['Sex'],as_index=False).mean() )\n",
    "#transform Sex into numeric feature for the learning algorithm\n",
    "full_df['Gender'] = full_df['Sex'].map( {'female': 0, 'male': 1} ).astype(int) "
   ]
  },
  {
   "cell_type": "markdown",
   "metadata": {},
   "source": [
    "Sex is indeed a feature with high correlation with Survival. We will may be use it to create new feature after.\n",
    "## 2.5 SibSp and Parch\n",
    "With the number of siblings/spouse and number of children/parents we can create a variable FamilySize. And let's see if the size of the family have an impact on the survival."
   ]
  },
  {
   "cell_type": "code",
   "execution_count": 216,
   "metadata": {
    "collapsed": false,
    "scrolled": true
   },
   "outputs": [
    {
     "name": "stdout",
     "output_type": "stream",
     "text": [
      "   FamilySize  Survived\n",
      "0           1  0.303538\n",
      "1           2  0.552795\n",
      "2           3  0.578431\n",
      "3           4  0.724138\n",
      "4           5  0.200000\n",
      "5           6  0.136364\n",
      "6           7  0.333333\n",
      "7           8  0.000000\n",
      "8          11  0.000000\n"
     ]
    }
   ],
   "source": [
    "# Create a new feature: family size (including the passenger themselves)\n",
    "full_df['FamilySize'] = full_df['SibSp'] + full_df['Parch'] + 1\n",
    "cor_FSize = full_df[[\"FamilySize\", \"Survived\"]].groupby(['FamilySize'],as_index=False).mean()\n",
    "print(cor_FSize)\n",
    "    #plt.bar(cor_FSize['FamilySize'], cor_FSize['Survived'])\n",
    "    #plt.xlabel('Family Size')\n",
    "    #plt.ylabel('Survival Rate')"
   ]
  },
  {
   "cell_type": "markdown",
   "metadata": {},
   "source": [
    "Interesting ! We can see that single person and big family (above 4 members) have survival penalty. Let's create a Family Size Categories variable with singleton, small and large family categories."
   ]
  },
  {
   "cell_type": "code",
   "execution_count": 217,
   "metadata": {
    "collapsed": false
   },
   "outputs": [
    {
     "name": "stdout",
     "output_type": "stream",
     "text": [
      "   FamilySizeCategories  Survived\n",
      "0                     0  0.161290\n",
      "1                     1  0.303538\n",
      "2                     2  0.578767\n"
     ]
    }
   ],
   "source": [
    "full_df['FamilySizeCategories'] = full_df['FamilySize']\n",
    "full_df.loc[ full_df['FamilySizeCategories'] == 1, 'FamilySizeCategories' ] = 1 #Singleton\n",
    "full_df.loc[ (full_df['FamilySizeCategories'] > 1) & (full_df['FamilySizeCategories'] < 5) , 'FamilySizeCategories' ] = 2 #Small\n",
    "full_df.loc[ full_df['FamilySizeCategories'] > 4, 'FamilySizeCategories' ] = 0 #Large\n",
    "print( full_df[[\"FamilySizeCategories\", \"Survived\"]].groupby(['FamilySizeCategories'],as_index=False).mean() )"
   ]
  },
  {
   "cell_type": "markdown",
   "metadata": {},
   "source": [
    "Looks good. Let's see what we can do next.\n",
    "## 2.6 Ticket, Cabin, Fare, Embarked\n",
    "I have no special idea for Ticket feature. I will put it aside for now.\n",
    "Same for Cabin, and there is a lot of missing value for Cabin.\n",
    "There is one missing value for Fare, let's replace it by the median of Ticket feature.\n",
    "And let's complete missing value of Embarked feature too."
   ]
  },
  {
   "cell_type": "code",
   "execution_count": 218,
   "metadata": {
    "collapsed": false
   },
   "outputs": [],
   "source": [
    "# replace missing value of Fare\n",
    "full_df.loc[ full_df['Fare'].isnull(), 'Fare' ] = full_df['Fare'].mean()\n",
    "#transform Embarked into numeric value for the learning algorithm\n",
    "full_df['Embarked_Num'] = full_df['Embarked'].map( {'S': 0, 'C': 1, 'Q': 2} )\n",
    "# fill the 3 missing values\n",
    "full_df.loc[ full_df['Embarked'].isnull(), 'Embarked_Num' ] = 1"
   ]
  },
  {
   "cell_type": "markdown",
   "metadata": {},
   "source": [
    "## 2.7 Age\n",
    "We have missing value for this feature (1046/1309). Let's try to fill them correctly."
   ]
  },
  {
   "cell_type": "code",
   "execution_count": 219,
   "metadata": {
    "collapsed": false
   },
   "outputs": [
    {
     "data": {
      "text/plain": [
       "<matplotlib.axes._subplots.AxesSubplot at 0xa554f8c198>"
      ]
     },
     "execution_count": 219,
     "metadata": {},
     "output_type": "execute_result"
    },
    {
     "data": {
      "image/png": "[encoded data removed]",
      "text/plain": [
       "<matplotlib.figure.Figure at 0xa554f4d7f0>"
      ]
     },
     "metadata": {},
     "output_type": "display_data"
    }
   ],
   "source": [
    "# Keep track of what was he missing value\n",
    "full_df['AgeIsNull'] = pd.isnull(full_df.Age).astype(int)\n",
    "\n",
    "#Fill the missing value with the median value of people having same class and gender.\n",
    "full_df['AgeFill'] = full_df['Age']\n",
    "median_ages = np.zeros((2,3))\n",
    "for i in range(0, 2):\n",
    "    for j in range(0, 3):\n",
    "        median_ages[i,j] = full_df[(full_df['Gender'] == i) & \\\n",
    "                              (full_df['Pclass'] == j+1)]['Age'].dropna().median()\n",
    "        full_df.loc[ (full_df.Age.isnull()) & (full_df.Gender == i) & (full_df.Pclass == j+1),\\\n",
    "         'AgeFill'] = median_ages[i,j]\n",
    "\n",
    "# plot old Age and new Age values\n",
    "fig, axs = plt.subplots(1,2)\n",
    "full_df['Age'][~np.isnan(full_df['Age'])].hist(ax=axs[0], bins=16)\n",
    "full_df['AgeFill'].hist(ax=axs[1], bins=16)"
   ]
  },
  {
   "cell_type": "markdown",
   "metadata": {},
   "source": [
    "Hmmmm... It doesn't look the same at all. Our repartition seem too rough. So, we will try with another method."
   ]
  },
  {
   "cell_type": "code",
   "execution_count": 220,
   "metadata": {
    "collapsed": false,
    "scrolled": true
   },
   "outputs": [
    {
     "data": {
      "text/plain": [
       "<matplotlib.axes._subplots.AxesSubplot at 0xa5550cc198>"
      ]
     },
     "execution_count": 220,
     "metadata": {},
     "output_type": "execute_result"
    },
    {
     "data": {
      "image/png": "[encoded data removed]",
      "text/plain": [
       "<matplotlib.figure.Figure at 0xa554ebf0b8>"
      ]
     },
     "metadata": {},
     "output_type": "display_data"
    }
   ],
   "source": [
    "# get average, std, and number of NaN values\n",
    "average_age_titanic   = full_df[\"Age\"].mean()\n",
    "std_age_titanic       = full_df[\"Age\"].std()\n",
    "count_nan_age_titanic = full_df[\"Age\"].isnull().sum()\n",
    "\n",
    "# generate random numbers between (mean - std) & (mean + std)\n",
    "rand_1 = np.random.randint(average_age_titanic - std_age_titanic, average_age_titanic + \n",
    "                           std_age_titanic, size = count_nan_age_titanic)\n",
    "\n",
    "# fill NaN values in Age column with random values generated\n",
    "full_df.loc[np.isnan(full_df[\"Age\"]), \"AgeFill\"] = rand_1\n",
    "\n",
    "# plot old Age and new Age values\n",
    "fig, axs = plt.subplots(1,2)\n",
    "full_df['Age'][~np.isnan(full_df['Age'])].hist(ax=axs[0], bins=16)\n",
    "full_df['AgeFill'].hist(ax=axs[1], bins=16)"
   ]
  },
  {
   "cell_type": "markdown",
   "metadata": {},
   "source": [
    "Ahhh ! This method seems better because the repartition seems similar this time.\n",
    "Let's create new feature with Age: Child."
   ]
  },
  {
   "cell_type": "code",
   "execution_count": 221,
   "metadata": {
    "collapsed": false
   },
   "outputs": [
    {
     "name": "stdout",
     "output_type": "stream",
     "text": [
      "   Child     Sex  Survived\n",
      "0      0  female  0.752896\n",
      "1      0    male  0.165703\n",
      "2      1  female  0.690909\n",
      "3      1    male  0.396552\n"
     ]
    }
   ],
   "source": [
    "full_df['Child'] = (full_df['Age'] < 18).astype(int)\n",
    "print( full_df[[\"Child\", \"Sex\", \"Survived\"]].groupby(['Child', 'Sex'],as_index=False).mean() )"
   ]
  },
  {
   "cell_type": "markdown",
   "metadata": {},
   "source": [
    "Being a child doesn't help as much as being a women, but it helps !\n",
    "Let's create another new feature: Mother"
   ]
  },
  {
   "cell_type": "code",
   "execution_count": 222,
   "metadata": {
    "collapsed": false,
    "nbpresent": {
     "id": "8272d365-82cb-44e7-82f2-c6bd3adeb78e"
    }
   },
   "outputs": [
    {
     "name": "stdout",
     "output_type": "stream",
     "text": [
      "   Mother  Survived\n",
      "0       0  0.329870\n",
      "1       1  0.727273\n",
      "      Sex  Survived\n",
      "0  female  0.742038\n",
      "1    male  0.188908\n"
     ]
    }
   ],
   "source": [
    "full_df['Mother'] = ((full_df['Gender'] == 0) & (full_df['AgeFill'] > 18) & (full_df['Title'] == \"Miss\")).astype(int)\n",
    "print( full_df[[\"Mother\", \"Survived\"]].groupby(['Mother'],as_index=False).mean() )\n",
    "print( full_df[[\"Sex\", \"Survived\"]].groupby(['Sex'],as_index=False).mean() )"
   ]
  },
  {
   "cell_type": "markdown",
   "metadata": {},
   "source": [
    "It helps to be a Mother, but it doesn't change much compared to other women.\n",
    "\n",
    "# 3 Prediction\n",
    "Now, we have all the features we need, we will clean the non necessary data, choose our model and check the results.\n",
    "## 3.1 Data Cleaning\n",
    "We will remove the non numeric column and not complete column."
   ]
  },
  {
   "cell_type": "code",
   "execution_count": 223,
   "metadata": {
    "collapsed": false,
    "nbpresent": {
     "id": "e6cf2dee-dfdf-4336-8fbc-c5b95ca6d37f"
    }
   },
   "outputs": [
    {
     "name": "stdout",
     "output_type": "stream",
     "text": [
      "<class 'pandas.core.frame.DataFrame'>\n",
      "Int64Index: 1309 entries, 0 to 417\n",
      "Data columns (total 23 columns):\n",
      "Age                     1046 non-null float64\n",
      "Cabin                   295 non-null object\n",
      "Embarked                1307 non-null object\n",
      "Fare                    1309 non-null float64\n",
      "Name                    1309 non-null object\n",
      "Parch                   1309 non-null int64\n",
      "PassengerId             1309 non-null int64\n",
      "Pclass                  1309 non-null int64\n",
      "Sex                     1309 non-null object\n",
      "SibSp                   1309 non-null int64\n",
      "Survived                891 non-null float64\n",
      "Ticket                  1309 non-null object\n",
      "Class1                  1309 non-null int32\n",
      "Title                   1309 non-null object\n",
      "Title_Num               1309 non-null int32\n",
      "Gender                  1309 non-null int32\n",
      "FamilySize              1309 non-null int64\n",
      "FamilySizeCategories    1309 non-null int64\n",
      "Embarked_Num            1309 non-null float64\n",
      "AgeIsNull               1309 non-null int32\n",
      "AgeFill                 1309 non-null float64\n",
      "Child                   1309 non-null int32\n",
      "Mother                  1309 non-null int32\n",
      "dtypes: float64(5), int32(6), int64(6), object(6)\n",
      "memory usage: 214.8+ KB\n",
      "None\n"
     ]
    }
   ],
   "source": [
    "print (full_df.info() )"
   ]
  },
  {
   "cell_type": "code",
   "execution_count": 224,
   "metadata": {
    "collapsed": false
   },
   "outputs": [],
   "source": [
    "full_df = full_df.drop(['Age', 'Cabin', 'Embarked', 'Name', 'Sex', 'Ticket', 'Title'], axis=1)\n",
    "full_df = full_df.drop(['Parch', 'SibSp', 'Child'], axis=1) # Variable importance was really low,so I remove these features."
   ]
  },
  {
   "cell_type": "markdown",
   "metadata": {},
   "source": [
    "## 3.2 Choosing the model\n",
    "We will just try the logistic regression and random forest."
   ]
  },
  {
   "cell_type": "code",
   "execution_count": 225,
   "metadata": {
    "collapsed": false
   },
   "outputs": [],
   "source": [
    "# Create the train and test set for our algorithms\n",
    "train_df = full_df[0:890]\n",
    "test_df = full_df[891:1309]\n",
    "X_train = train_df.drop(['Survived', 'PassengerId'],axis=1)\n",
    "Y_train = train_df[\"Survived\"]\n",
    "X_test  = test_df.drop(['Survived', 'PassengerId'],axis=1).copy()"
   ]
  },
  {
   "cell_type": "code",
   "execution_count": 226,
   "metadata": {
    "collapsed": false
   },
   "outputs": [],
   "source": [
    "# Random Forest\n",
    "random_forest = RandomForestClassifier(n_estimators=100)\n",
    "forest = random_forest.fit(X_train, Y_train)\n",
    "Y_pred = random_forest.predict(X_test)"
   ]
  },
  {
   "cell_type": "code",
   "execution_count": 227,
   "metadata": {
    "collapsed": false
   },
   "outputs": [
    {
     "data": {
      "text/plain": [
       "0.82247191011235954"
      ]
     },
     "execution_count": 227,
     "metadata": {},
     "output_type": "execute_result"
    }
   ],
   "source": [
    "# Logistic regression\n",
    "logreg = LogisticRegression(C=50,max_iter=10000)\n",
    "log = logreg.fit(X_train, Y_train)\n",
    "Y_pred = logreg.predict(X_test)\n",
    "logreg.score(X_train, Y_train)"
   ]
  },
  {
   "cell_type": "markdown",
   "metadata": {},
   "source": [
    "We will keep Logistic regression since it gives me a better score at the submission. \n",
    "## 3.3 Variable Importance\n",
    "Let’s look at relative variable importance"
   ]
  },
  {
   "cell_type": "code",
   "execution_count": 228,
   "metadata": {
    "collapsed": false
   },
   "outputs": [
    {
     "data": {
      "text/html": [
       "<div>\n",
       "<table border=\"1\" class=\"dataframe\">\n",
       "  <thead>\n",
       "    <tr style=\"text-align: right;\">\n",
       "      <th></th>\n",
       "      <th>Features</th>\n",
       "      <th>Coefficient Estimate</th>\n",
       "    </tr>\n",
       "  </thead>\n",
       "  <tbody>\n",
       "    <tr>\n",
       "      <th>9</th>\n",
       "      <td>AgeFill</td>\n",
       "      <td>0.236463</td>\n",
       "    </tr>\n",
       "    <tr>\n",
       "      <th>0</th>\n",
       "      <td>Fare</td>\n",
       "      <td>0.221574</td>\n",
       "    </tr>\n",
       "    <tr>\n",
       "      <th>3</th>\n",
       "      <td>Title_Num</td>\n",
       "      <td>0.171610</td>\n",
       "    </tr>\n",
       "    <tr>\n",
       "      <th>4</th>\n",
       "      <td>Gender</td>\n",
       "      <td>0.125544</td>\n",
       "    </tr>\n",
       "    <tr>\n",
       "      <th>1</th>\n",
       "      <td>Pclass</td>\n",
       "      <td>0.067270</td>\n",
       "    </tr>\n",
       "    <tr>\n",
       "      <th>5</th>\n",
       "      <td>FamilySize</td>\n",
       "      <td>0.044894</td>\n",
       "    </tr>\n",
       "    <tr>\n",
       "      <th>6</th>\n",
       "      <td>FamilySizeCategories</td>\n",
       "      <td>0.044476</td>\n",
       "    </tr>\n",
       "    <tr>\n",
       "      <th>7</th>\n",
       "      <td>Embarked_Num</td>\n",
       "      <td>0.027108</td>\n",
       "    </tr>\n",
       "    <tr>\n",
       "      <th>2</th>\n",
       "      <td>Class1</td>\n",
       "      <td>0.022480</td>\n",
       "    </tr>\n",
       "    <tr>\n",
       "      <th>10</th>\n",
       "      <td>Mother</td>\n",
       "      <td>0.021260</td>\n",
       "    </tr>\n",
       "    <tr>\n",
       "      <th>8</th>\n",
       "      <td>AgeIsNull</td>\n",
       "      <td>0.017320</td>\n",
       "    </tr>\n",
       "  </tbody>\n",
       "</table>\n",
       "</div>"
      ],
      "text/plain": [
       "                Features  Coefficient Estimate\n",
       "9                AgeFill              0.236463\n",
       "0                   Fare              0.221574\n",
       "3              Title_Num              0.171610\n",
       "4                 Gender              0.125544\n",
       "1                 Pclass              0.067270\n",
       "5             FamilySize              0.044894\n",
       "6   FamilySizeCategories              0.044476\n",
       "7           Embarked_Num              0.027108\n",
       "2                 Class1              0.022480\n",
       "10                Mother              0.021260\n",
       "8              AgeIsNull              0.017320"
      ]
     },
     "execution_count": 228,
     "metadata": {},
     "output_type": "execute_result"
    }
   ],
   "source": [
    "coeff_df = pd.DataFrame(X_train.columns)\n",
    "coeff_df.columns = ['Features']\n",
    "coeff_df[\"Coefficient Estimate\"] = pd.Series(forest.feature_importances_)\n",
    "\n",
    "# preview\n",
    "coeff_df.sort_values([\"Coefficient Estimate\"], ascending=False)"
   ]
  },
  {
   "cell_type": "markdown",
   "metadata": {},
   "source": [
    "Title was a good idea, it's the best variable we create. Happy to have been cautious with to fill missing value of Age. And it's Fare that have the most relative importance.\n",
    "## 3.4 Submission"
   ]
  },
  {
   "cell_type": "code",
   "execution_count": 229,
   "metadata": {
    "collapsed": false
   },
   "outputs": [],
   "source": [
    "output = Y_pred.astype(int)\n",
    "ids = test_df['PassengerId'].values\n",
    "predictions_file = open(\"titanic_predict.csv\", \"w\") # Python 3\n",
    "open_file_object = csv.writer(predictions_file)\n",
    "open_file_object.writerow([\"PassengerId\",\"Survived\"])\n",
    "open_file_object.writerows(zip(ids, output))\n",
    "predictions_file.close()"
   ]
  },
  {
   "cell_type": "markdown",
   "metadata": {},
   "source": [
    "# 4 Conclusion\n",
    "Thank you for taking the time to read through my first Kaggle kernel. I look forward to learn more and try more competition. Feedback is really welcomed.\n",
    "And thanks for all the kernels and people that helps me."
   ]
  }
 ],
 "metadata": {
  "anaconda-cloud": {},
  "kernelspec": {
   "display_name": "Python [Root]",
   "language": "python",
   "name": "Python [Root]"
  },
  "language_info": {
   "codemirror_mode": {
    "name": "ipython",
    "version": 3
   },
   "file_extension": ".py",
   "mimetype": "text/x-python",
   "name": "python",
   "nbconvert_exporter": "python",
   "pygments_lexer": "ipython3",
   "version": "3.5.2"
  },
  "nbpresent": {
   "slides": {
    "0bbf6263-cbd5-44e5-bfb9-cb6ed9b29487": {
     "id": "0bbf6263-cbd5-44e5-bfb9-cb6ed9b29487",
     "prev": "83f978b2-abd8-4086-9fbf-95adfd55de8b",
     "regions": {
      "b184d936-b1f4-48ac-a280-a09cafa34f14": {
       "attrs": {
        "height": 0.8,
        "width": 0.8,
        "x": 0.1,
        "y": 0.1
       },
       "content": {
        "cell": "36232ebc-f058-44db-ae29-59c555980224",
        "part": "whole"
       },
       "id": "b184d936-b1f4-48ac-a280-a09cafa34f14"
      }
     }
    },
    "16968995-9228-450b-8fe3-2db9250aee7c": {
     "id": "16968995-9228-450b-8fe3-2db9250aee7c",
     "prev": "0bbf6263-cbd5-44e5-bfb9-cb6ed9b29487",
     "regions": {
      "3dd065d6-9ea3-4f75-b2bf-f3cf2629da15": {
       "attrs": {
        "height": 0.8,
        "width": 0.8,
        "x": 0.1,
        "y": 0.1
       },
       "content": {
        "cell": "8c4e9769-d428-4d85-be71-417eb341a102",
        "part": "whole"
       },
       "id": "3dd065d6-9ea3-4f75-b2bf-f3cf2629da15"
      }
     }
    },
    "6f296086-6017-4253-907d-312cfafbcace": {
     "id": "6f296086-6017-4253-907d-312cfafbcace",
     "prev": "ce1bf5ad-f0e8-446d-94a9-fe8f1436f4d6",
     "regions": {
      "626db7fc-9a68-4f73-8f69-2bfe14933c8a": {
       "attrs": {
        "height": 0.8,
        "width": 0.8,
        "x": 0.1,
        "y": 0.1
       },
       "content": {
        "cell": "c570e20a-7206-4fe0-b6bb-61eb91ec96fb",
        "part": "whole"
       },
       "id": "626db7fc-9a68-4f73-8f69-2bfe14933c8a"
      }
     }
    },
    "83f978b2-abd8-4086-9fbf-95adfd55de8b": {
     "id": "83f978b2-abd8-4086-9fbf-95adfd55de8b",
     "prev": "d5dfba5f-c3c5-435e-94e3-932a10944762",
     "regions": {
      "3b1d5627-fbca-4d4f-8e69-7c5e44140249": {
       "attrs": {
        "height": 0.8,
        "width": 0.8,
        "x": 0.1,
        "y": 0.1
       },
       "content": {
        "cell": "3025ea50-e64f-423a-b6b3-1464a2da84e3",
        "part": "whole"
       },
       "id": "3b1d5627-fbca-4d4f-8e69-7c5e44140249"
      }
     }
    },
    "93ab62a5-df0d-4c22-8da6-28f56ddf0fb5": {
     "id": "93ab62a5-df0d-4c22-8da6-28f56ddf0fb5",
     "prev": null,
     "regions": {
      "30b9e4a5-3da5-4bc7-ba1d-769b7035df2c": {
       "attrs": {
        "height": 0.8,
        "width": 0.8,
        "x": 0.1,
        "y": 0.1
       },
       "content": {
        "cell": "8d9ec022-4a2a-45d5-bcd9-946ec4002be1",
        "part": "whole"
       },
       "id": "30b9e4a5-3da5-4bc7-ba1d-769b7035df2c"
      }
     }
    },
    "941ce728-fdcd-4c44-9692-c79aa737e47f": {
     "id": "941ce728-fdcd-4c44-9692-c79aa737e47f",
     "prev": "16968995-9228-450b-8fe3-2db9250aee7c",
     "regions": {
      "1e48c77c-cf2b-441f-b832-cb98d74b21fc": {
       "attrs": {
        "height": 0.8,
        "width": 0.8,
        "x": 0.1,
        "y": 0.1
       },
       "content": {
        "cell": "8272d365-82cb-44e7-82f2-c6bd3adeb78e",
        "part": "whole"
       },
       "id": "1e48c77c-cf2b-441f-b832-cb98d74b21fc"
      }
     }
    },
    "ce1bf5ad-f0e8-446d-94a9-fe8f1436f4d6": {
     "id": "ce1bf5ad-f0e8-446d-94a9-fe8f1436f4d6",
     "prev": "941ce728-fdcd-4c44-9692-c79aa737e47f",
     "regions": {
      "1bf24cb3-0002-4ff4-9e2c-1100b3a265da": {
       "attrs": {
        "height": 0.8,
        "width": 0.8,
        "x": 0.1,
        "y": 0.1
       },
       "content": {
        "cell": "e6cf2dee-dfdf-4336-8fbc-c5b95ca6d37f",
        "part": "whole"
       },
       "id": "1bf24cb3-0002-4ff4-9e2c-1100b3a265da"
      }
     }
    },
    "d5dfba5f-c3c5-435e-94e3-932a10944762": {
     "id": "d5dfba5f-c3c5-435e-94e3-932a10944762",
     "prev": "93ab62a5-df0d-4c22-8da6-28f56ddf0fb5",
     "regions": {
      "29f12bf7-4ba4-43ac-a4f0-2ec7d7265a8a": {
       "attrs": {
        "height": 0.8,
        "width": 0.8,
        "x": 0.1,
        "y": 0.1
       },
       "content": {
        "cell": "9c7ed892-97a0-4179-8ca8-bdbefe743a42",
        "part": "whole"
       },
       "id": "29f12bf7-4ba4-43ac-a4f0-2ec7d7265a8a"
      }
     }
    }
   },
   "themes": {}
  }
 },
 "nbformat": 4,
 "nbformat_minor": 0
}
